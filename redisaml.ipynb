{
 "cells": [
  {
   "cell_type": "code",
   "execution_count": 1,
   "id": "4a255430",
   "metadata": {},
   "outputs": [],
   "source": [
    "#=========================================================================================================#\n",
    "#  REDISAML DEMO\n",
    "#\n",
    "# This demo uses docker to run the following containers:\n",
    "# 1. Redis Enterprise (redislabs/redis)\n",
    "# 2. Redis Insight (redislabs/redisinsight)\n",
    "# 3. Postgres (postgres)\n",
    "# \n",
    "# Instructions:\n",
    "# \n",
    "# 1. Follow instructions to setup the envi\n",
    "# 2. Execute the shell script:\n",
    "# ./redisaml.sh\n",
    "# 3. \n",
    "# \n",
    "#=========================================================================================================#\n",
    "\n",
    "\n",
    "#required libraries \n",
    "from redis import Redis\n",
    "from redis.exceptions import ResponseError,ConnectionError\n",
    "from os import environ,urandom,fork\n",
    "from uuid import uuid1,uuid4\n",
    "import random\n",
    "from time import sleep\n",
    "from logging import debug, info\n",
    "from faker import Faker\n",
    "import json\n",
    "import itertools\n",
    "import psycopg2\n",
    "from datetime import datetime\n",
    "\n",
    "\n"
   ]
  },
  {
   "cell_type": "code",
   "execution_count": 8,
   "id": "6f3c3e45",
   "metadata": {
    "scrolled": true
   },
   "outputs": [
    {
     "ename": "AttributeError",
     "evalue": "'Redis' object has no attribute 'disconnect'",
     "output_type": "error",
     "traceback": [
      "\u001b[0;31m---------------------------------------------------------------------------\u001b[0m",
      "\u001b[0;31mAttributeError\u001b[0m                            Traceback (most recent call last)",
      "\u001b[0;32m<ipython-input-8-666d49fc47f3>\u001b[0m in \u001b[0;36m<module>\u001b[0;34m\u001b[0m\n\u001b[1;32m      6\u001b[0m \u001b[0mr\u001b[0m\u001b[0;34m.\u001b[0m\u001b[0mexecute_command\u001b[0m\u001b[0;34m(\u001b[0m\u001b[0;34m\"FT.CREATE cases ON HASH PREFIX 1 amlcases: SCHEMA caseid TAG SORTABLE status TAG SORTABLE investigator TAG SORTABLE value NUMERIC SORTABLE files TAG SORTABLE date_reported NUMERIC SORTABLE date_last_updated NUMERIC SORTABLE report_body TEXT primary_acctno TAG SORTABLE phone TEXT NOSTEM ip TEXT NOSTEM account_details TEXT NOINDEX priority TAG SORTABLE related_tags TAG SORTABLE ssn TAG SORTABLE\"\u001b[0m\u001b[0;34m)\u001b[0m\u001b[0;34m\u001b[0m\u001b[0;34m\u001b[0m\u001b[0m\n\u001b[1;32m      7\u001b[0m \u001b[0mr\u001b[0m\u001b[0;34m.\u001b[0m\u001b[0mexecute_command\u001b[0m\u001b[0;34m(\u001b[0m\u001b[0;34m\"FT.CREATE files ON HASH PREFIX 1 amlcasefiles: SCHEMA caseid TAG SORTABLE s3_url TEXT NOINDEX body TEXT filetype TAG SORTABLE date_added NUMERIC SORTABLE\"\u001b[0m\u001b[0;34m)\u001b[0m\u001b[0;34m\u001b[0m\u001b[0;34m\u001b[0m\u001b[0m\n\u001b[0;32m----> 8\u001b[0;31m \u001b[0mr\u001b[0m\u001b[0;34m.\u001b[0m\u001b[0mdisconnect\u001b[0m\u001b[0;34m(\u001b[0m\u001b[0;34m)\u001b[0m\u001b[0;34m\u001b[0m\u001b[0;34m\u001b[0m\u001b[0m\n\u001b[0m",
      "\u001b[0;31mAttributeError\u001b[0m: 'Redis' object has no attribute 'disconnect'"
     ]
    }
   ],
   "source": [
    "#connect to redis and create search schema\n",
    "\n",
    "redis_hostname = environ.get('REDIS_HOSTNAME','localhost')\n",
    "redis_port = environ.get('REDIS_PORT',12000)\n",
    "r = Redis(host=redis_hostname, port=redis_port, decode_responses=True)\n",
    "r.execute_command(\"FT.CREATE cases ON HASH PREFIX 1 amlcases: SCHEMA caseid TAG SORTABLE status TAG SORTABLE investigator TAG SORTABLE value NUMERIC SORTABLE files TAG SORTABLE date_reported NUMERIC SORTABLE date_last_updated NUMERIC SORTABLE report_body TEXT primary_acctno TAG SORTABLE phone TEXT NOSTEM ip TEXT NOSTEM account_details TEXT NOINDEX priority TAG SORTABLE related_tags TAG SORTABLE ssn TAG SORTABLE\")\n",
    "r.execute_command(\"FT.CREATE files ON HASH PREFIX 1 amlcasefiles: SCHEMA caseid TAG SORTABLE s3_url TEXT NOINDEX body TEXT filetype TAG SORTABLE date_added NUMERIC SORTABLE\")\n"
   ]
  },
  {
   "cell_type": "code",
   "execution_count": null,
   "id": "cd58da49",
   "metadata": {},
   "outputs": [],
   "source": [
    "#connect to postgres\n",
    "\n",
    "conn = psycopg2.connect(\n",
    "    host=\"172.25.0.2\",\n",
    "    database=\"postgres\",\n",
    "    user=\"postgres\",\n",
    "    password=\"mysecretpassword\")\n",
    "mcursor = conn.cursor()\n",
    "mcursor.execute('SELECT version()')\n",
    "#db_version = mcursor.fetchone()\n",
    "print('PostgreSQL database version: ', mcursor.fetchone()[0])"
   ]
  },
  {
   "cell_type": "code",
   "execution_count": null,
   "id": "cf29bdba",
   "metadata": {},
   "outputs": [],
   "source": [
    "#for testing: display all records in amlcases tables (caseid, status, investigator)\n",
    "#curAmlCases = conn.cursor()\n",
    "#curAmlCases.execute(\"select * from amlcases\")\n",
    "#mrows = curAmlCases.fetchall()\n",
    "\n",
    "#for r in mrows:\n",
    "#    print(f\"Case Id {r[0]} Status {r[1]} Investigator {r[2]}\")"
   ]
  },
  {
   "cell_type": "code",
   "execution_count": 4,
   "id": "6618a1ae",
   "metadata": {},
   "outputs": [],
   "source": [
    "#function to create fake information and add to postgres\n",
    "def insert_postgres_case(fake, id):\n",
    "\n",
    "    statuses = [\"new\",\"investigating\",\"resolved\",\"on-hold\",\"archived\"]\n",
    "    priorities = [\"low\",\"med\",\"high\"]\n",
    "    date_range = [1389576338,1601861138] # Jan 13 2014 to Oct 5 2020\n",
    "\n",
    "    caseid = maxid + id\n",
    "    status = statuses[random.randrange(0,len(statuses))]\n",
    "    investigator = random.randrange(501001,501501)\n",
    "    value = int(abs(random.gauss(10000,300000)))\n",
    "\n",
    "    files = str(uuid1()).replace(\"-\",\"\")\n",
    "    for _ in itertools.repeat(None,random.randrange(1,8)):\n",
    "        files = files + \",\" + str(uuid4()).replace(\"-\",\"\")\n",
    "    tempdate = random.randrange(date_range[0],date_range[1])\n",
    "    reportdate = datetime.fromtimestamp(tempdate)\n",
    "    # + 20 days or 100 days\n",
    "    lastupdate = datetime.fromtimestamp(tempdate + random.randrange(1728000,8640000)) \n",
    "    body = fake.text()\n",
    "    acctno = fake.ean8(prefixes=(\"41\",\"82\",\"21\",\"97\"))\n",
    "    ssn = str(fake.ssn()).replace(\"-\",\"\")\n",
    "    phone = fake.phone_number()\n",
    "    ip = fake.ipv4()\n",
    "    FullName = fake.name() \n",
    "    Street = fake.street_address() \n",
    "    Country = \"US\"\n",
    "    State = \"NB\" \n",
    "    PostCode = fake.postcode()\n",
    "    priority = priorities[random.randrange(0,len(priorities))]\n",
    "    tags = acctno\n",
    "    for _ in itertools.repeat(None,random.randrange(4,19)):\n",
    "        tags = tags + \",\" + fake.ean8(prefixes=(\"41\",\"82\",\"21\",\"97\"))\n",
    "    \n",
    "    #print(f\"Case Id {caseid} Status {status} Investigator {investigator} Phone {phone}\")\n",
    "    # insert into postgres\n",
    "    mcursor.execute(\"insert into amlcases (caseid, fullname, street, state, postcode,status,investigator,amount,files,reportdate,lastupdate,casebody,accountid,ssn,phone,ip,priority,relatedtags) values (%s,%s,%s,%s,%s,%s,%s,%s,%s,%s,%s,%s,%s,%s,%s,%s,%s,%s)\", (caseid,FullName,Street,State,PostCode,status,investigator,value,files,reportdate,lastupdate,body,acctno,ssn,phone,ip,priority,tags))\n",
    "    #mcursor.execute(\"insert into amlcases (caseid, fullname, street, state, postcode,status,investigator,amount) values (%s,%s,%s,%s)\", (caseid,status,investigator,value))\n",
    "    \n",
    "                        \n",
    "    return \n",
    "\n",
    "\n",
    "\n",
    "    "
   ]
  },
  {
   "cell_type": "code",
   "execution_count": 5,
   "id": "10831d3e",
   "metadata": {},
   "outputs": [
    {
     "name": "stdout",
     "output_type": "stream",
     "text": [
      "Inserting 10000 records into amlcases table.\n",
      "Count: 0\n",
      "Count: 1000\n",
      "Count: 2000\n",
      "Count: 3000\n",
      "Count: 4000\n",
      "Count: 5000\n",
      "Count: 6000\n",
      "Count: 7000\n",
      "Count: 8000\n",
      "Count: 9000\n",
      "Count: 10000\n",
      "Connection to postgres closed.\n"
     ]
    }
   ],
   "source": [
    "print(\"Inserting 10000 records into amlcases table.\")\n",
    "count = 10000\n",
    "fake = Faker()\n",
    "counter = 0\n",
    "maxid = mcursor.execute(\"select max(caseid) from amlcases\")\n",
    "maxid = mcursor.fetchone()[0]\n",
    "if maxid is None: \n",
    "\tmaxid = 100000\n",
    "while counter <= int(count):\n",
    "    if (counter % 1000 == 0):\n",
    "    \tprint(\"Count:\", counter)\n",
    "    insert_postgres_case(fake,counter+1)\n",
    "    counter = counter + 1\n",
    "\n",
    "conn.commit()\n",
    "mcursor.close()\n",
    "conn.close()\n",
    "print(\"Connection to postgres closed.\")\n"
   ]
  },
  {
   "cell_type": "code",
   "execution_count": 111,
   "id": "19da0ddc",
   "metadata": {},
   "outputs": [],
   "source": [
    "\n"
   ]
  },
  {
   "cell_type": "code",
   "execution_count": 108,
   "id": "f0a56369",
   "metadata": {},
   "outputs": [
    {
     "name": "stdout",
     "output_type": "stream",
     "text": [
      "None\n"
     ]
    }
   ],
   "source": []
  },
  {
   "cell_type": "code",
   "execution_count": null,
   "id": "c28bed73",
   "metadata": {},
   "outputs": [],
   "source": []
  }
 ],
 "metadata": {
  "kernelspec": {
   "display_name": "Python 3 (ipykernel)",
   "language": "python",
   "name": "python3"
  },
  "language_info": {
   "codemirror_mode": {
    "name": "ipython",
    "version": 3
   },
   "file_extension": ".py",
   "mimetype": "text/x-python",
   "name": "python",
   "nbconvert_exporter": "python",
   "pygments_lexer": "ipython3",
   "version": "3.7.11"
  }
 },
 "nbformat": 4,
 "nbformat_minor": 5
}
